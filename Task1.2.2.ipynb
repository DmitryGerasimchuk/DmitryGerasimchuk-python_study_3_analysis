{
 "cells": [
  {
   "cell_type": "markdown",
   "metadata": {},
   "source": [
    "## Задача № 1.2:\n",
    "\n",
    "На складе лежат разные фрукты в разном количестве. Написать функцию, которая на вход принимает любое количество названий фруктов и их количество, а возвращает общее количество фруктов на складе\n",
    "\n",
    "###### Примеры/Тесты:\n",
    "    <finction_name>(apple=2, banana=12, pear=9, peach=5) -> 28"
   ]
  },
  {
   "cell_type": "markdown",
   "metadata": {},
   "source": [
    "### Вариант решения № 1:\n",
    "\n",
    "Применяется, когда нам изначально задается финальный список овощей и фруктов в виде словаря."
   ]
  },
  {
   "cell_type": "code",
   "execution_count": 68,
   "metadata": {},
   "outputs": [],
   "source": [
    "def warehouse1(fruitage_dict: dict) -> int:\n",
    "    sum = 0\n",
    "    for k, v in fruitage_dict.items():\n",
    "        sum = sum + v\n",
    "    print(f'На складе сейчас {sum} позиций овощей и фруктов')\n"
   ]
  },
  {
   "cell_type": "code",
   "execution_count": 69,
   "metadata": {},
   "outputs": [
    {
     "name": "stdout",
     "output_type": "stream",
     "text": [
      "На складе сейчас 28 позиций овощей и фруктов\n"
     ]
    }
   ],
   "source": [
    "my_warehouse1 = {'apple': 2, 'banana': 12, 'pear': 9, 'peach': 5}\n",
    "\n",
    "warehouse1(my_warehouse1)"
   ]
  },
  {
   "cell_type": "markdown",
   "metadata": {},
   "source": [
    "### Вариант решения № 2:\n",
    "\n",
    "Применяется, когда нам изначально не задается финальный список овощей и фруктов в виде словаря, но мы ничего не запрашиваем ввести с клавиатуры у пользователя "
   ]
  },
  {
   "cell_type": "code",
   "execution_count": 70,
   "metadata": {},
   "outputs": [],
   "source": [
    "def warehouse2(**fruitage_dict: dict) -> int:\n",
    "    sum = 0\n",
    "    for k, v in fruitage_dict.items():\n",
    "        sum = sum + v\n",
    "    print(f'На складе сейчас {sum} позиций овощей и фруктов')"
   ]
  },
  {
   "cell_type": "code",
   "execution_count": 71,
   "metadata": {},
   "outputs": [
    {
     "name": "stdout",
     "output_type": "stream",
     "text": [
      "На складе сейчас 40 позиций овощей и фруктов\n"
     ]
    }
   ],
   "source": [
    "my_warehouse2 = {'apple': 2, 'banana': 12, 'pear': 9, 'peach': 5, 'lemon': 12}\n",
    "\n",
    "warehouse2(**my_warehouse2)"
   ]
  },
  {
   "cell_type": "markdown",
   "metadata": {},
   "source": [
    "### Вариант решения № 3:\n",
    "\n",
    "Применяется, когда нам изначально не задается финальный список овощей и фруктов в виде словаря, и мы запрашиваем пользователя ввести их с клавиатуры "
   ]
  },
  {
   "cell_type": "code",
   "execution_count": 72,
   "metadata": {},
   "outputs": [],
   "source": [
    "qty = int(input(\"Введите количество позиций плодов на складе: \"))"
   ]
  },
  {
   "cell_type": "code",
   "execution_count": 73,
   "metadata": {},
   "outputs": [],
   "source": [
    "def warehouse3(qty: int) -> int:\n",
    "    count = 0\n",
    "    my_dict = {}\n",
    "    while count < qty:\n",
    "        name = input(\"Введите наименование плода: \")\n",
    "        qty_name = int(input(\"Введите количество указанных плодов на складе: \"))\n",
    "        my_dict[name] = qty_name\n",
    "        count += 1\n",
    "    sum = 0\n",
    "    for k, v in my_dict.items():\n",
    "        sum = sum + v\n",
    "    print(f'На складе сейчас {sum} позиций овощей и фруктов')"
   ]
  },
  {
   "cell_type": "code",
   "execution_count": 74,
   "metadata": {},
   "outputs": [
    {
     "name": "stdout",
     "output_type": "stream",
     "text": [
      "На складе сейчас 28 позиций овощей и фруктов\n"
     ]
    }
   ],
   "source": [
    "warehouse3(qty)"
   ]
  }
 ],
 "metadata": {
  "kernelspec": {
   "display_name": "Python 3",
   "language": "python",
   "name": "python3"
  },
  "language_info": {
   "codemirror_mode": {
    "name": "ipython",
    "version": 3
   },
   "file_extension": ".py",
   "mimetype": "text/x-python",
   "name": "python",
   "nbconvert_exporter": "python",
   "pygments_lexer": "ipython3",
   "version": "3.12.3"
  }
 },
 "nbformat": 4,
 "nbformat_minor": 2
}
