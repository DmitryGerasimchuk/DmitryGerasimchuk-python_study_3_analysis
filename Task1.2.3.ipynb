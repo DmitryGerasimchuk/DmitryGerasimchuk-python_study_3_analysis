{
 "cells": [
  {
   "cell_type": "markdown",
   "metadata": {},
   "source": [
    "## Задача № 1.3:\n",
    "\n",
    "Дан список с затратами на рекламу. Но в данных есть ошибки, некоторые затраты имеют отрицательную величину. Удалите такие значения из списка и посчитайте суммарные затраты. Используйте list comprehensions.\n",
    "\n",
    "###### Примеры/Тесты:\n",
    "    [-12, 100, 0, 125, -90, 0, 345, 655, -1, 0, 200] -> [100, 0, 125, 0, 345, 655, 0, 200]\n",
    "\n",
    "### (*) Усложнение. Удалите отрицательные значения из списка, а нулевые значения замените на None\n",
    "\n",
    "###### Примеры/Тесты:\n",
    "    [-12, 100, 0, 125, -90, 0, 345, 655, -1, 0, 200] -> [100, None, 125, None, 345, 655, None, 200]"
   ]
  },
  {
   "cell_type": "code",
   "execution_count": 5,
   "metadata": {},
   "outputs": [],
   "source": [
    "expense = [-12, 100, 0, 125, -90, 0, 345, 655, -1, 0, 200]"
   ]
  },
  {
   "cell_type": "code",
   "execution_count": 6,
   "metadata": {},
   "outputs": [
    {
     "name": "stdout",
     "output_type": "stream",
     "text": [
      "[100, 0, 125, 0, 345, 655, 0, 200]\n"
     ]
    }
   ],
   "source": [
    "good_expense = list()\n",
    "for i in expense:\n",
    "    if i >= 0:\n",
    "        good_expense.append(i)\n",
    "\n",
    "print(good_expense)"
   ]
  },
  {
   "cell_type": "code",
   "execution_count": 7,
   "metadata": {},
   "outputs": [
    {
     "name": "stdout",
     "output_type": "stream",
     "text": [
      "[100, 0, 125, 0, 345, 655, 0, 200]\n"
     ]
    }
   ],
   "source": [
    "good_expense_1 = [i for i in expense if i>=0]\n",
    "\n",
    "print(good_expense_1)"
   ]
  },
  {
   "cell_type": "code",
   "execution_count": 8,
   "metadata": {},
   "outputs": [
    {
     "name": "stdout",
     "output_type": "stream",
     "text": [
      "[100, None, 125, None, 345, 655, None, 200]\n"
     ]
    }
   ],
   "source": [
    "very_good_expense = list()\n",
    "for i in expense:\n",
    "    if i > 0:\n",
    "        very_good_expense.append(i)\n",
    "    if i == 0:\n",
    "        very_good_expense.append(None)\n",
    "        \n",
    "print(very_good_expense)\n"
   ]
  }
 ],
 "metadata": {
  "kernelspec": {
   "display_name": "Python 3",
   "language": "python",
   "name": "python3"
  },
  "language_info": {
   "codemirror_mode": {
    "name": "ipython",
    "version": 3
   },
   "file_extension": ".py",
   "mimetype": "text/x-python",
   "name": "python",
   "nbconvert_exporter": "python",
   "pygments_lexer": "ipython3",
   "version": "3.12.3"
  }
 },
 "nbformat": 4,
 "nbformat_minor": 2
}
